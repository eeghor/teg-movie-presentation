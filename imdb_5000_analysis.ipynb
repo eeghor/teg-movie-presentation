{
 "cells": [
  {
   "cell_type": "markdown",
   "metadata": {},
   "source": [
    "## The extended IMDB 5000 Movie Database analysis\n"
   ]
  },
  {
   "cell_type": "code",
   "execution_count": 20,
   "metadata": {
    "collapsed": true
   },
   "outputs": [],
   "source": [
    "import pandas as pd  \n",
    "import matplotlib as mpl\n",
    "import matplotlib.pyplot as plt\n",
    "import seaborn as sns\n",
    "%matplotlib inline\n",
    "sns.set_style(\"dark\")"
   ]
  },
  {
   "cell_type": "markdown",
   "metadata": {},
   "source": [
    "Read the data from a .CSV fie and check the types"
   ]
  },
  {
   "cell_type": "code",
   "execution_count": 21,
   "metadata": {
    "collapsed": false
   },
   "outputs": [
    {
     "name": "stdout",
     "output_type": "stream",
     "text": [
      "this database contains 42 variables and 4353 rows\n"
     ]
    },
    {
     "data": {
      "text/html": [
       "<div>\n",
       "<table border=\"1\" class=\"dataframe\">\n",
       "  <thead>\n",
       "    <tr style=\"text-align: right;\">\n",
       "      <th></th>\n",
       "      <th>color</th>\n",
       "      <th>director_name</th>\n",
       "      <th>num_critic_for_reviews</th>\n",
       "      <th>duration</th>\n",
       "      <th>director_facebook_likes</th>\n",
       "      <th>actor_3_facebook_likes</th>\n",
       "      <th>actor_2_name</th>\n",
       "      <th>actor_1_facebook_likes</th>\n",
       "      <th>gross</th>\n",
       "      <th>genres</th>\n",
       "      <th>...</th>\n",
       "      <th>tagline_pct_nouns</th>\n",
       "      <th>tagline_pct_adj</th>\n",
       "      <th>pct_action_fantasy</th>\n",
       "      <th>plot_complexity</th>\n",
       "      <th>rel_weekday</th>\n",
       "      <th>rel_quarter</th>\n",
       "      <th>director_sex</th>\n",
       "      <th>actor_1_sex</th>\n",
       "      <th>actor_2_sex</th>\n",
       "      <th>actor_3_sex</th>\n",
       "    </tr>\n",
       "  </thead>\n",
       "  <tbody>\n",
       "    <tr>\n",
       "      <th>0</th>\n",
       "      <td>Color</td>\n",
       "      <td>James Cameron</td>\n",
       "      <td>723.0</td>\n",
       "      <td>178.0</td>\n",
       "      <td>0.0</td>\n",
       "      <td>855.0</td>\n",
       "      <td>Joel David Moore</td>\n",
       "      <td>1000.0</td>\n",
       "      <td>760505847.0</td>\n",
       "      <td>Action|Adventure|Fantasy|Sci-Fi</td>\n",
       "      <td>...</td>\n",
       "      <td>0.0</td>\n",
       "      <td>0.0</td>\n",
       "      <td>50.0</td>\n",
       "      <td>5</td>\n",
       "      <td>3.0</td>\n",
       "      <td>4.0</td>\n",
       "      <td>M</td>\n",
       "      <td>M</td>\n",
       "      <td>M</td>\n",
       "      <td>M</td>\n",
       "    </tr>\n",
       "    <tr>\n",
       "      <th>1</th>\n",
       "      <td>Color</td>\n",
       "      <td>Gore Verbinski</td>\n",
       "      <td>302.0</td>\n",
       "      <td>169.0</td>\n",
       "      <td>563.0</td>\n",
       "      <td>1000.0</td>\n",
       "      <td>Orlando Bloom</td>\n",
       "      <td>40000.0</td>\n",
       "      <td>309404152.0</td>\n",
       "      <td>Action|Adventure|Fantasy</td>\n",
       "      <td>...</td>\n",
       "      <td>20.0</td>\n",
       "      <td>0.0</td>\n",
       "      <td>66.7</td>\n",
       "      <td>7</td>\n",
       "      <td>3.0</td>\n",
       "      <td>2.0</td>\n",
       "      <td>M</td>\n",
       "      <td>M</td>\n",
       "      <td>M</td>\n",
       "      <td>M</td>\n",
       "    </tr>\n",
       "    <tr>\n",
       "      <th>2</th>\n",
       "      <td>Color</td>\n",
       "      <td>Sam Mendes</td>\n",
       "      <td>602.0</td>\n",
       "      <td>148.0</td>\n",
       "      <td>0.0</td>\n",
       "      <td>161.0</td>\n",
       "      <td>Rory Kinnear</td>\n",
       "      <td>11000.0</td>\n",
       "      <td>200074175.0</td>\n",
       "      <td>Action|Adventure|Thriller</td>\n",
       "      <td>...</td>\n",
       "      <td>25.0</td>\n",
       "      <td>25.0</td>\n",
       "      <td>33.3</td>\n",
       "      <td>5</td>\n",
       "      <td>3.0</td>\n",
       "      <td>4.0</td>\n",
       "      <td>F</td>\n",
       "      <td>M</td>\n",
       "      <td>M</td>\n",
       "      <td>F</td>\n",
       "    </tr>\n",
       "    <tr>\n",
       "      <th>3</th>\n",
       "      <td>Color</td>\n",
       "      <td>Christopher Nolan</td>\n",
       "      <td>813.0</td>\n",
       "      <td>164.0</td>\n",
       "      <td>22000.0</td>\n",
       "      <td>23000.0</td>\n",
       "      <td>Christian Bale</td>\n",
       "      <td>27000.0</td>\n",
       "      <td>448130642.0</td>\n",
       "      <td>Action|Thriller</td>\n",
       "      <td>...</td>\n",
       "      <td>0.0</td>\n",
       "      <td>0.0</td>\n",
       "      <td>50.0</td>\n",
       "      <td>7</td>\n",
       "      <td>3.0</td>\n",
       "      <td>3.0</td>\n",
       "      <td>M</td>\n",
       "      <td>M</td>\n",
       "      <td>M</td>\n",
       "      <td>M</td>\n",
       "    </tr>\n",
       "    <tr>\n",
       "      <th>4</th>\n",
       "      <td>Color</td>\n",
       "      <td>Andrew Stanton</td>\n",
       "      <td>462.0</td>\n",
       "      <td>132.0</td>\n",
       "      <td>475.0</td>\n",
       "      <td>530.0</td>\n",
       "      <td>Samantha Morton</td>\n",
       "      <td>640.0</td>\n",
       "      <td>73058679.0</td>\n",
       "      <td>Action|Adventure|Sci-Fi</td>\n",
       "      <td>...</td>\n",
       "      <td>11.1</td>\n",
       "      <td>11.1</td>\n",
       "      <td>33.3</td>\n",
       "      <td>8</td>\n",
       "      <td>3.0</td>\n",
       "      <td>1.0</td>\n",
       "      <td>M</td>\n",
       "      <td>M</td>\n",
       "      <td>F</td>\n",
       "      <td>F</td>\n",
       "    </tr>\n",
       "  </tbody>\n",
       "</table>\n",
       "<p>5 rows × 42 columns</p>\n",
       "</div>"
      ],
      "text/plain": [
       "   color      director_name  num_critic_for_reviews  duration  \\\n",
       "0  Color      James Cameron                   723.0     178.0   \n",
       "1  Color     Gore Verbinski                   302.0     169.0   \n",
       "2  Color         Sam Mendes                   602.0     148.0   \n",
       "3  Color  Christopher Nolan                   813.0     164.0   \n",
       "4  Color     Andrew Stanton                   462.0     132.0   \n",
       "\n",
       "   director_facebook_likes  actor_3_facebook_likes      actor_2_name  \\\n",
       "0                      0.0                   855.0  Joel David Moore   \n",
       "1                    563.0                  1000.0     Orlando Bloom   \n",
       "2                      0.0                   161.0      Rory Kinnear   \n",
       "3                  22000.0                 23000.0    Christian Bale   \n",
       "4                    475.0                   530.0   Samantha Morton   \n",
       "\n",
       "   actor_1_facebook_likes        gross                           genres  \\\n",
       "0                  1000.0  760505847.0  Action|Adventure|Fantasy|Sci-Fi   \n",
       "1                 40000.0  309404152.0         Action|Adventure|Fantasy   \n",
       "2                 11000.0  200074175.0        Action|Adventure|Thriller   \n",
       "3                 27000.0  448130642.0                  Action|Thriller   \n",
       "4                   640.0   73058679.0          Action|Adventure|Sci-Fi   \n",
       "\n",
       "      ...     tagline_pct_nouns tagline_pct_adj  pct_action_fantasy  \\\n",
       "0     ...                   0.0             0.0                50.0   \n",
       "1     ...                  20.0             0.0                66.7   \n",
       "2     ...                  25.0            25.0                33.3   \n",
       "3     ...                   0.0             0.0                50.0   \n",
       "4     ...                  11.1            11.1                33.3   \n",
       "\n",
       "   plot_complexity rel_weekday  rel_quarter director_sex actor_1_sex  \\\n",
       "0                5         3.0          4.0            M           M   \n",
       "1                7         3.0          2.0            M           M   \n",
       "2                5         3.0          4.0            F           M   \n",
       "3                7         3.0          3.0            M           M   \n",
       "4                8         3.0          1.0            M           M   \n",
       "\n",
       "   actor_2_sex actor_3_sex  \n",
       "0            M           M  \n",
       "1            M           M  \n",
       "2            M           F  \n",
       "3            M           M  \n",
       "4            F           F  \n",
       "\n",
       "[5 rows x 42 columns]"
      ]
     },
     "execution_count": 21,
     "metadata": {},
     "output_type": "execute_result"
    }
   ],
   "source": [
    "df = pd.read_csv(\"data/movie_metadata_upd_final.csv\")\n",
    "NROWS = df.shape[0]\n",
    "print(\"this database contains {} variables and {} rows\".format(df.shape[1], NROWS))\n",
    "df.head()"
   ]
  },
  {
   "cell_type": "markdown",
   "metadata": {},
   "source": [
    "Let's see what types are there:"
   ]
  },
  {
   "cell_type": "code",
   "execution_count": 22,
   "metadata": {
    "collapsed": false
   },
   "outputs": [
    {
     "data": {
      "text/plain": [
       "color                         object\n",
       "director_name                 object\n",
       "num_critic_for_reviews       float64\n",
       "duration                     float64\n",
       "director_facebook_likes      float64\n",
       "actor_3_facebook_likes       float64\n",
       "actor_2_name                  object\n",
       "actor_1_facebook_likes       float64\n",
       "gross                        float64\n",
       "genres                        object\n",
       "actor_1_name                  object\n",
       "movie_title                   object\n",
       "num_voted_users                int64\n",
       "cast_total_facebook_likes      int64\n",
       "actor_3_name                  object\n",
       "facenumber_in_poster         float64\n",
       "plot_keywords                 object\n",
       "movie_imdb_link               object\n",
       "num_user_for_reviews         float64\n",
       "language                      object\n",
       "country                       object\n",
       "content_rating                object\n",
       "budget                       float64\n",
       "title_year                   float64\n",
       "actor_2_facebook_likes       float64\n",
       "imdb_score                   float64\n",
       "aspect_ratio                 float64\n",
       "movie_facebook_likes           int64\n",
       "rel_date                      object\n",
       "tagline                       object\n",
       "tagline_pct_verbs            float64\n",
       "tagline_pct_punkt            float64\n",
       "tagline_pct_nouns            float64\n",
       "tagline_pct_adj              float64\n",
       "pct_action_fantasy           float64\n",
       "plot_complexity                int64\n",
       "rel_weekday                  float64\n",
       "rel_quarter                  float64\n",
       "director_sex                  object\n",
       "actor_1_sex                   object\n",
       "actor_2_sex                   object\n",
       "actor_3_sex                   object\n",
       "dtype: object"
      ]
     },
     "execution_count": 22,
     "metadata": {},
     "output_type": "execute_result"
    }
   ],
   "source": [
    "df.dtypes"
   ]
  },
  {
   "cell_type": "markdown",
   "metadata": {},
   "source": [
    "## Handling types and missing values"
   ]
  },
  {
   "cell_type": "markdown",
   "metadata": {},
   "source": [
    "Let us see how many missing values are there for each variable"
   ]
  },
  {
   "cell_type": "code",
   "execution_count": 23,
   "metadata": {
    "collapsed": false
   },
   "outputs": [
    {
     "data": {
      "text/plain": [
       "color                        -14\n",
       "director_name                  0\n",
       "num_critic_for_reviews       -40\n",
       "duration                     -12\n",
       "director_facebook_likes        0\n",
       "actor_3_facebook_likes       -16\n",
       "actor_2_name                 -10\n",
       "actor_1_facebook_likes        -7\n",
       "gross                       -545\n",
       "genres                         0\n",
       "actor_1_name                  -7\n",
       "movie_title                    0\n",
       "num_voted_users                0\n",
       "cast_total_facebook_likes      0\n",
       "actor_3_name                 -16\n",
       "facenumber_in_poster         -13\n",
       "plot_keywords               -139\n",
       "movie_imdb_link                0\n",
       "num_user_for_reviews         -15\n",
       "language                      -5\n",
       "country                       -1\n",
       "content_rating              -252\n",
       "budget                      -367\n",
       "title_year                     0\n",
       "actor_2_facebook_likes       -10\n",
       "imdb_score                     0\n",
       "aspect_ratio                -296\n",
       "movie_facebook_likes           0\n",
       "rel_date                     -53\n",
       "tagline                     -655\n",
       "tagline_pct_verbs           -655\n",
       "tagline_pct_punkt           -655\n",
       "tagline_pct_nouns           -655\n",
       "tagline_pct_adj             -655\n",
       "pct_action_fantasy             0\n",
       "plot_complexity                0\n",
       "rel_weekday                  -53\n",
       "rel_quarter                  -53\n",
       "director_sex                   0\n",
       "actor_1_sex                    0\n",
       "actor_2_sex                    0\n",
       "actor_3_sex                    0\n",
       "dtype: int64"
      ]
     },
     "execution_count": 23,
     "metadata": {},
     "output_type": "execute_result"
    }
   ],
   "source": [
    "df.count()-NROWS"
   ]
  },
  {
   "cell_type": "markdown",
   "metadata": {},
   "source": [
    "Here is a reasonable fix:\n",
    "> **color**: fill with \"Color\" because these days nearly movies are shot in color (and we only consider movies released since 1991)  \n",
    "> **num_critic_for_reviews**: perhaps, there were no reviews; set missing values to zero  \n",
    "> **num_user_for_reviews**: as above\n",
    "> **duration**: take the avrage duration across all movies  \n",
    "> **actor_3_facebook_likes**: for now, assume it's possible that no FB user likes this actor - set zero  \n",
    "> **actor_1_facebook_likes**: similar to the above  \n",
    "> **actor_2_facebook_likes**: as above  \n",
    "> **actor_2_name**: this is interesting; make it \"Unknown Actor\" because we don't really care (for the purposes of this project)  \n",
    "> **actor_1_name**: similar to the above  \n",
    "> **actor_3_name**: similar to the above  \n",
    "> **gross**: this is a bit troubling, that so many groww figures are missing; anyway, set them to zero as there doesn't seem to be any more sensible solution right now  \n",
    "> **facenumber_in_poster**: it is very much possible that there can be no faces in posters, so set to zero  \n",
    "> **plot_keywords**: let's just add the word \"missing\"; surely, there are other a bit more complex solutions like to infer topic from the movie title or look it up on Wikipedia or something else  \n",
    "> **language**: could be easily looked up; to save time, make it \"unknown\"  \n",
    "> **country**: as above  \n",
    "> **content_rating**: as above  \n",
    "> **budget**: many missing figures! would normally find out (news, Wikipedia, etc.) but now set to the average budget  \n",
    "> **aspect_ratio**: set to the most popular one  \n",
    "> **rel_date**: have to be careful here; say, it's 01 January of that year  \n",
    "> **tagline**: just \"missing\"  \n",
    "> **tagline_pct_verbs**: zero  \n",
    "> **tagline_pct_punkt**: as above  \n",
    "> **tagline_pct_nouns**: as above  \n",
    "> **tagline_pct_adj**: as above  \n",
    "> **rel_weekday**: take the average across all available weekdays  \n",
    "> **rel_quarter**: as above\n"
   ]
  },
  {
   "cell_type": "code",
   "execution_count": 24,
   "metadata": {
    "collapsed": false
   },
   "outputs": [],
   "source": [
    "df[\"color\"] = df[\"color\"].fillna(\"Color\")\n",
    "df[\"num_critic_for_reviews\"] = df[\"num_critic_for_reviews\"].fillna(0)\n",
    "df[\"duration\"] = df[\"duration\"].fillna(df[\"duration\"].mean())\n",
    "df[\"actor_3_facebook_likes\"] = df[\"actor_3_facebook_likes\"].fillna(0)\n",
    "df[\"actor_1_facebook_likes\"] = df[\"actor_1_facebook_likes\"].fillna(0)\n",
    "df[\"actor_2_name\"] = df[\"actor_2_name\"].fillna(\"Unknown Actor\")\n",
    "df[\"actor_1_name\"] = df[\"actor_1_name\"].fillna(\"Unknown Actor\")\n",
    "df[\"actor_3_name\"] = df[\"actor_3_name\"].fillna(\"Unknown Actor\")\n",
    "df[\"gross\"] = df[\"gross\"].fillna(0)\n",
    "df[\"facenumber_in_poster\"] = df[\"facenumber_in_poster\"].fillna(0)\n",
    "df[\"plot_keywords\"] = df[\"plot_keywords\"].fillna(\"missing\")\n",
    "df[\"num_user_for_reviews\"] = df[\"num_user_for_reviews\"].fillna(0)\n",
    "df[\"language\"] = df[\"language\"].fillna(\"unknown\")\n",
    "df[\"country\"] = df[\"country\"].fillna(\"unknown\")\n",
    "df[\"content_rating\"] = df[\"content_rating\"].fillna(\"unknown\")\n",
    "df[\"budget\"] = df[\"budget\"].fillna(df[\"budget\"].mean())\n",
    "df[\"actor_2_facebook_likes\"] = df[\"actor_2_facebook_likes\"].fillna(0)\n",
    "df[\"aspect_ratio\"] = df[\"aspect_ratio\"].fillna(df[\"aspect_ratio\"].mode().iloc[0])\n",
    "df[\"rel_date\"] = df[\"rel_date\"].fillna(pd.to_datetime(df[\"title_year\"]))  \n",
    "df[\"tagline\"] = df[\"tagline\"].fillna(\"missing\")\n",
    "df[\"tagline_pct_verbs\"] = df[\"tagline_pct_verbs\"].fillna(0)\n",
    "df[\"tagline_pct_punkt\"] = df[\"tagline_pct_punkt\"].fillna(0)\n",
    "df[\"tagline_pct_nouns\"] = df[\"tagline_pct_nouns\"].fillna(0)\n",
    "df[\"tagline_pct_adj\"] = df[\"tagline_pct_adj\"].fillna(0)\n",
    "df[\"rel_weekday\"] = df[\"rel_weekday\"].fillna(df[\"rel_weekday\"].mode().iloc[0])\n",
    "df[\"rel_quarter\"] = df[\"rel_quarter\"].fillna(df[\"rel_quarter\"].mean())"
   ]
  },
  {
   "cell_type": "markdown",
   "metadata": {
    "collapsed": true
   },
   "source": [
    "Add a new variable **profitability**, which will be defined by a profitability function as follows  \n",
    "> f(movie): 1 if gross/budget > 1 (profitable) or 0 (flop) otherwise. "
   ]
  },
  {
   "cell_type": "code",
   "execution_count": 25,
   "metadata": {
    "collapsed": false
   },
   "outputs": [],
   "source": [
    "df[\"profitability\"] = df[\"gross\"].divide(df[\"budget\"], fill_value=0).apply(lambda _: 1 if _ > 1 else 0)"
   ]
  },
  {
   "cell_type": "markdown",
   "metadata": {},
   "source": [
    "## Data Exploration"
   ]
  },
  {
   "cell_type": "code",
   "execution_count": 26,
   "metadata": {
    "collapsed": false
   },
   "outputs": [
    {
     "data": {
      "text/plain": [
       "<matplotlib.axes._subplots.AxesSubplot at 0x10ec5d390>"
      ]
     },
     "execution_count": 26,
     "metadata": {},
     "output_type": "execute_result"
    },
    {
     "data": {
      "image/png": "[encoded data removed]",
      "text/plain": [
       "<matplotlib.figure.Figure at 0x10eb85278>"
      ]
     },
     "metadata": {},
     "output_type": "display_data"
    }
   ],
   "source": [
    "sns.countplot(x=\"rel_weekday\", data=df)"
   ]
  },
  {
   "cell_type": "code",
   "execution_count": 27,
   "metadata": {
    "collapsed": false
   },
   "outputs": [
    {
     "data": {
      "text/plain": [
       "<matplotlib.axes._subplots.AxesSubplot at 0x10ed9fc18>"
      ]
     },
     "execution_count": 27,
     "metadata": {},
     "output_type": "execute_result"
    },
    {
     "data": {
      "image/png": "[encoded data removed]",
      "text/plain": [
       "<matplotlib.figure.Figure at 0x10eccc9b0>"
      ]
     },
     "metadata": {},
     "output_type": "display_data"
    }
   ],
   "source": [
    "sns.countplot(x=\"facenumber_in_poster\", data=df)"
   ]
  },
  {
   "cell_type": "code",
   "execution_count": null,
   "metadata": {
    "collapsed": true
   },
   "outputs": [],
   "source": []
  }
 ],
 "metadata": {
  "kernelspec": {
   "display_name": "Python 3",
   "language": "python",
   "name": "python3"
  },
  "language_info": {
   "codemirror_mode": {
    "name": "ipython",
    "version": 3
   },
   "file_extension": ".py",
   "mimetype": "text/x-python",
   "name": "python",
   "nbconvert_exporter": "python",
   "pygments_lexer": "ipython3",
   "version": "3.5.2"
  }
 },
 "nbformat": 4,
 "nbformat_minor": 0
}
